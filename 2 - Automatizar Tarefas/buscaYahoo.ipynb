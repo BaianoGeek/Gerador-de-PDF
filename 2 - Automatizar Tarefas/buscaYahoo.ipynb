{
 "cells": [
  {
   "cell_type": "markdown",
   "metadata": {},
   "source": [
    "#### Enumeração\n",
    "\n",
    "- Instalar e utilizar bibliotecas\n",
    "- Buscar dados de ações automaticamente\n",
    "- Gerar estatísticas sobre esses dados\n",
    "- Automatizar o controle do mouse e do teclado com o pyautogui\n",
    "- Utilizar strings de múltiplas linhas\n",
    "- Enviar e-mail de forma automática"
   ]
  },
  {
   "cell_type": "markdown",
   "metadata": {},
   "source": [
    "#### 1 - Instalar e utilizar bibliotecas"
   ]
  },
  {
   "cell_type": "code",
   "execution_count": null,
   "metadata": {},
   "outputs": [],
   "source": [
    "pip install yfinance\n",
    "pip install matplotlib\n",
    "pip install pyautogui"
   ]
  },
  {
   "cell_type": "markdown",
   "metadata": {},
   "source": [
    "#### 2 -Buscar dados de ações automaticamente"
   ]
  },
  {
   "cell_type": "code",
   "execution_count": null,
   "metadata": {},
   "outputs": [],
   "source": [
    "import yfinance\n",
    "from time import sleep \n",
    "import pyautogui\n",
    "import pyperclip\n",
    "\n",
    "ticker = \"ETH-USD\"\n",
    "\n",
    "dados = yfinance.Ticker(ticker)\n",
    "tabela = dados.history(start=\"2024-05-01\", end=\"2024-06-01\")\n",
    "\n",
    "fechamento = tabela.Close\n",
    "fechamento"
   ]
  },
  {
   "cell_type": "markdown",
   "metadata": {},
   "source": [
    "#### 3 - Gerar estatísticas sobre esses dados\n"
   ]
  },
  {
   "cell_type": "code",
   "execution_count": null,
   "metadata": {},
   "outputs": [],
   "source": [
    "fechamento.plot()\n",
    "\n",
    "#Arredondando valores\n",
    "maxima = round(fechamento.max(), 2)\n",
    "minima = round(fechamento.min(), 2)\n",
    "media  = round(fechamento.mean(),2)\n",
    "\n",
    "#Imprimindo Valores\n",
    "\n",
    "print(maxima)\n",
    "print(minima)\n",
    "print(media)\n"
   ]
  },
  {
   "cell_type": "markdown",
   "metadata": {},
   "source": [
    "#### 4 - Automatizar o controle do mouse e do teclado com o pyautogui"
   ]
  },
  {
   "cell_type": "code",
   "execution_count": null,
   "metadata": {},
   "outputs": [],
   "source": [
    "time.sleep(5)\n",
    "print(pyautogui.position())"
   ]
  },
  {
   "cell_type": "markdown",
   "metadata": {},
   "source": [
    "#### 5 - Utilizar strings de múltiplas linhas"
   ]
  },
  {
   "cell_type": "code",
   "execution_count": null,
   "metadata": {},
   "outputs": [],
   "source": [
    "mensagem = \"\"\"\n",
    "Teste\n",
    "Mensagem\n",
    "Múltiplas\n",
    "Linhas\n",
    "\"\"\"\n",
    "\n",
    "print(mensagem)"
   ]
  }
 ],
 "metadata": {
  "kernelspec": {
   "display_name": "Python 3",
   "language": "python",
   "name": "python3"
  },
  "language_info": {
   "codemirror_mode": {
    "name": "ipython",
    "version": 3
   },
   "file_extension": ".py",
   "mimetype": "text/x-python",
   "name": "python",
   "nbconvert_exporter": "python",
   "pygments_lexer": "ipython3",
   "version": "3.12.0"
  }
 },
 "nbformat": 4,
 "nbformat_minor": 2
}
